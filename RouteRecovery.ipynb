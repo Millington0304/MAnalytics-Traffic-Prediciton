{
 "cells": [
  {
   "cell_type": "code",
   "execution_count": 1,
   "id": "bf1e1759",
   "metadata": {},
   "outputs": [
    {
     "name": "stdout",
     "output_type": "stream",
     "text": [
      "(10000000, 19)\n",
      "Index(['vendor_id', 'pickup_datetime', 'dropoff_datetime', 'passenger_count',\n",
      "       'trip_distance', 'pickup_longitude', 'pickup_latitude',\n",
      "       'store_and_fwd_flag', 'dropoff_longitude', 'dropoff_latitude',\n",
      "       'payment_type', 'fare_amount', 'mta_tax', 'tip_amount', 'tolls_amount',\n",
      "       'total_amount', 'imp_surcharge', 'extra', 'rate_code'],\n",
      "      dtype='object')\n",
      "  vendor_id          pickup_datetime         dropoff_datetime  \\\n",
      "0       VTS  2014-07-22T23:35:00.000  2014-07-22T23:36:00.000   \n",
      "1       CMT  2014-08-07T22:31:24.000  2014-08-07T22:35:03.000   \n",
      "2       VTS  2014-08-12T22:47:00.000  2014-08-12T22:53:00.000   \n",
      "3       CMT  2014-07-05T02:09:22.000  2014-07-05T02:16:43.000   \n",
      "4       CMT  2014-09-19T23:18:02.000  2014-09-19T23:32:59.000   \n",
      "\n",
      "   passenger_count  trip_distance  pickup_longitude  pickup_latitude  \\\n",
      "0                1           0.71        -74.002725        40.728677   \n",
      "1                2           0.90        -74.004349        40.723741   \n",
      "2                2           1.14        -73.983277        40.763642   \n",
      "3                1           1.50        -73.960655        40.761605   \n",
      "4                1           1.30        -73.951917        40.777779   \n",
      "\n",
      "  store_and_fwd_flag  dropoff_longitude  dropoff_latitude payment_type  \\\n",
      "0                NaN         -73.997122         40.736955          CRD   \n",
      "1                  N         -74.000743         40.736306          CSH   \n",
      "2                NaN         -73.997000         40.762637          CRD   \n",
      "3                  N         -73.982980         40.763318          CRD   \n",
      "4                  N         -73.989025         40.722403          CRD   \n",
      "\n",
      "   fare_amount  mta_tax  tip_amount  tolls_amount  total_amount  \\\n",
      "0          4.0      0.5         0.9           0.0           5.9   \n",
      "1          5.0      0.5         0.0           0.0           6.0   \n",
      "2          6.5      0.5         1.0           0.0           8.5   \n",
      "3          7.5      0.5         2.0           0.0          10.5   \n",
      "4          9.5      0.5         1.5           0.0          12.0   \n",
      "\n",
      "   imp_surcharge  extra  rate_code  \n",
      "0            0.5    NaN          1  \n",
      "1            0.5    NaN          1  \n",
      "2            0.5    NaN          1  \n",
      "3            0.5    NaN          1  \n",
      "4            0.5    NaN          1  \n"
     ]
    }
   ],
   "source": [
    "import pandas as pd\n",
    "\n",
    "# Load the Parquet file\n",
    "df = pd.read_csv('gkne-dk5s.csv')\n",
    "\n",
    "# Show basic info\n",
    "print(df.shape)\n",
    "print(df.columns)\n",
    "print(df.head())\n"
   ]
  },
  {
   "cell_type": "code",
   "execution_count": 2,
   "id": "ba51aa77",
   "metadata": {},
   "outputs": [],
   "source": [
    "# remove null values at lat and lon\n",
    "df = df.dropna(subset=['dropoff_longitude', 'dropoff_latitude', 'pickup_latitude', 'pickup_longitude'])"
   ]
  },
  {
   "cell_type": "code",
   "execution_count": 4,
   "id": "ed90fa5b",
   "metadata": {},
   "outputs": [],
   "source": [
    "import osmnx as ox\n",
    "\n",
    "# Download the road network for New York City\n",
    "G = ox.graph_from_place('New York City, New York, USA', network_type='drive')\n",
    "G_proj = ox.project_graph(G, to_latlong=True)"
   ]
  },
  {
   "cell_type": "code",
   "execution_count": 310,
   "id": "0fc88a5d",
   "metadata": {},
   "outputs": [
    {
     "data": {
      "text/plain": [
       "[(39076461,\n",
       "  274283981,\n",
       "  {'osmid': 25161349,\n",
       "   'highway': 'motorway',\n",
       "   'lanes': '2',\n",
       "   'maxspeed': '50 mph',\n",
       "   'name': 'Cross Island Parkway',\n",
       "   'oneway': True,\n",
       "   'ref': 'CI',\n",
       "   'reversed': False,\n",
       "   'length': 819.5016661477803,\n",
       "   'geometry': <LINESTRING (-73.795 40.786, -73.795 40.786, -73.794 40.786, -73.794 40.786,...>,\n",
       "   'speed_limit': 70,\n",
       "   'travel_time': 42.14579997331442}),\n",
       " (39076461,\n",
       "  42854803,\n",
       "  {'osmid': 25161578,\n",
       "   'highway': 'motorway_link',\n",
       "   'oneway': True,\n",
       "   'reversed': False,\n",
       "   'length': 268.1440952459794,\n",
       "   'geometry': <LINESTRING (-73.795 40.786, -73.793 40.787, -73.793 40.787, -73.793 40.787,...>,\n",
       "   'speed_limit': 60,\n",
       "   'travel_time': 16.088645714758762}),\n",
       " (274283981,\n",
       "  3789687872,\n",
       "  {'osmid': [39084897, 40944009, 40944010],\n",
       "   'highway': 'motorway',\n",
       "   'lanes': '3',\n",
       "   'maxspeed': '50 mph',\n",
       "   'name': 'Cross Island Parkway',\n",
       "   'oneway': True,\n",
       "   'ref': 'CI',\n",
       "   'reversed': False,\n",
       "   'length': 636.5460273480962,\n",
       "   'geometry': <LINESTRING (-73.786 40.789, -73.786 40.789, -73.786 40.789, -73.786 40.789,...>,\n",
       "   'bridge': 'yes',\n",
       "   'speed_limit': 70,\n",
       "   'travel_time': 32.73665283504495}),\n",
       " (42854803,\n",
       "  42847609,\n",
       "  {'osmid': 25161438,\n",
       "   'highway': 'tertiary',\n",
       "   'name': 'Cross Island Parkway Service Road',\n",
       "   'oneway': False,\n",
       "   'reversed': False,\n",
       "   'length': 142.36944916216783,\n",
       "   'geometry': <LINESTRING (-73.792 40.787, -73.791 40.787, -73.79 40.788)>,\n",
       "   'speed_limit': 30,\n",
       "   'travel_time': 17.084333899460137}),\n",
       " (42854803,\n",
       "  42816655,\n",
       "  {'osmid': 25161438,\n",
       "   'highway': 'tertiary',\n",
       "   'name': 'Cross Island Parkway Service Road',\n",
       "   'oneway': False,\n",
       "   'reversed': True,\n",
       "   'length': 141.82323932759573,\n",
       "   'geometry': <LINESTRING (-73.792 40.787, -73.792 40.787, -73.792 40.787, -73.793 40.787,...>,\n",
       "   'speed_limit': 30,\n",
       "   'travel_time': 17.018788719311488})]"
      ]
     },
     "execution_count": 310,
     "metadata": {},
     "output_type": "execute_result"
    }
   ],
   "source": [
    "list(G_proj.edges(data=True))[0:5]"
   ]
  },
  {
   "cell_type": "markdown",
   "id": "0c16f9e2",
   "metadata": {},
   "source": [
    "We have unclassified, residential, tertiary, secondary, primary, trunk, motorway, secondary_link,primary_link, trunk_link, motorway_link for ['highway']"
   ]
  },
  {
   "cell_type": "code",
   "execution_count": 151,
   "id": "2b6deb7b",
   "metadata": {},
   "outputs": [],
   "source": [
    "#set a fixed speed limit for all edges based on the road type\n",
    "dict_speed = {\n",
    "    'motorway': 70,\n",
    "    'trunk': 60,\n",
    "    'primary': 50,\n",
    "    'secondary': 40,\n",
    "    'tertiary': 30,\n",
    "    'residential': 20,\n",
    "    'unclassified': 15,\n",
    "    'secondary_link': 30,\n",
    "    'primary_link': 40,\n",
    "    'trunk_link': 50,\n",
    "    'motorway_link': 60,\n",
    "}"
   ]
  },
  {
   "cell_type": "code",
   "execution_count": 165,
   "id": "56e6d757",
   "metadata": {},
   "outputs": [],
   "source": [
    "#get an estimated travel time for each edge at G_proj\n",
    "for u, v, data in G_proj.edges(data=True):\n",
    "    road_type = data.get('highway', 'residential')  # default to residential if not specified\n",
    "    # in case it's a list, get the first type\n",
    "    if isinstance(road_type, list):\n",
    "        road_type = road_type[0]\n",
    "    speed_limit = dict_speed.get(road_type, 20)  # default speed limit if road type not found\n",
    "    data['speed_limit'] = speed_limit\n",
    "    data['travel_time'] = data['length'] / (speed_limit * 1000 / 3600)  # convert speed to m/s and calculate time in seconds, add 5 seconds for stop time for each edge transition"
   ]
  },
  {
   "cell_type": "code",
   "execution_count": 166,
   "id": "d2c3e917",
   "metadata": {},
   "outputs": [
    {
     "name": "stdout",
     "output_type": "stream",
     "text": [
      "{'osmid': [1025734022, 1025734023], 'highway': 'primary', 'lanes': '4', 'name': '9th Avenue', 'oneway': True, 'reversed': False, 'length': 87.41343891131758, 'geometry': <LINESTRING (-73.993 40.758, -73.993 40.758, -73.993 40.757, -73.994 40.757,...>, 'speed_limit': 50, 'travel_time': 6.293767601614866}\n"
     ]
    }
   ],
   "source": [
    "# add edge weights based on travel time\n",
    "print(G_proj[42445001][42444991][0])"
   ]
  },
  {
   "cell_type": "markdown",
   "id": "36dd3d68",
   "metadata": {},
   "source": [
    "### Using travel_time (estimated) does give a 1% improvement at the end for xgboost"
   ]
  },
  {
   "cell_type": "code",
   "execution_count": null,
   "id": "923fd5be",
   "metadata": {},
   "outputs": [],
   "source": [
    "def recover_route(graph, pickup_lat, pickup_lon, dropoff_lat, dropoff_lon):\n",
    "    orig_node = ox.distance.nearest_nodes(graph, pickup_lon, pickup_lat)\n",
    "    dest_node = ox.distance.nearest_nodes(graph, dropoff_lon, dropoff_lat)\n",
    "\n",
    "    #print(f\"Pickup Node: {orig_node}, Dropoff Node: {dest_node}\")\n",
    "    #print(f\"Pickup Coordinates: ({pickup_lat}, {pickup_lon}), Dropoff Coordinates: ({dropoff_lat}, {dropoff_lon})\")\n",
    "    # Compute the shortest path by length (distance)\n",
    "    # route = ox.shortest_path(graph, orig_node, dest_node, weight='length')\n",
    "    # Compute the shortest path by travel time\n",
    "    route = ox.shortest_path(graph, orig_node, dest_node, weight='travel_time')\n",
    "    return route"
   ]
  },
  {
   "cell_type": "code",
   "execution_count": null,
   "id": "6394fd8c",
   "metadata": {},
   "outputs": [],
   "source": [
    "# sanity check for projection\n",
    "#plot a histogram for lat distribution of nodes\n",
    "import matplotlib.pyplot as plt\n",
    "def plot_lat_distribution(graph):\n",
    "    latitudes = [data['x'] for _, data in graph.nodes(data=True)]\n",
    "    plt.hist(latitudes, bins=50, color='blue', alpha=0.7)\n",
    "    plt.title('Latitude Distribution of Nodes')\n",
    "    plt.xlabel('Latitude')\n",
    "    plt.ylabel('Frequency')\n",
    "    plt.grid(True)\n",
    "    plt.show()\n",
    "\n",
    "# Plot the latitude distribution of nodes\n",
    "plot_lat_distribution(G_proj)"
   ]
  },
  {
   "cell_type": "code",
   "execution_count": 270,
   "id": "a9be88e4",
   "metadata": {},
   "outputs": [
    {
     "data": {
      "text/plain": [
       "[4321748237,\n",
       " 5854302557,\n",
       " 42430187,\n",
       " 42430205,\n",
       " 42430217,\n",
       " 42430231,\n",
       " 42430233,\n",
       " 42430235,\n",
       " 42430237,\n",
       " 42421889,\n",
       " 42430241,\n",
       " 42430247,\n",
       " 42430249,\n",
       " 42429374]"
      ]
     },
     "execution_count": 270,
     "metadata": {},
     "output_type": "execute_result"
    }
   ],
   "source": [
    "recover_route(G_proj, df['pickup_latitude'].iloc[0], df['pickup_longitude'].iloc[0],\n",
    "              df['dropoff_latitude'].iloc[0], df['dropoff_longitude'].iloc[0])"
   ]
  },
  {
   "cell_type": "code",
   "execution_count": 271,
   "id": "fcad695f",
   "metadata": {},
   "outputs": [],
   "source": [
    "#scale down the data to 10000 rows\n",
    "df_small = df.sample(n=10000, random_state=42)"
   ]
  },
  {
   "cell_type": "code",
   "execution_count": 272,
   "id": "e1335d92",
   "metadata": {},
   "outputs": [],
   "source": [
    "pickup_lat = df_small['pickup_latitude']\n",
    "pickup_lon = df_small['pickup_longitude']\n",
    "dropoff_lat = df_small['dropoff_latitude']\n",
    "dropoff_lon = df_small['dropoff_longitude']\n",
    "df_small['route'] = recover_route(G_proj, pickup_lat, pickup_lon, dropoff_lat, dropoff_lon)\n",
    "\n",
    "#~70 seconds for 10,000 routes"
   ]
  },
  {
   "cell_type": "code",
   "execution_count": 273,
   "id": "b6047476",
   "metadata": {},
   "outputs": [],
   "source": [
    "import pickle\n",
    "# Save the route to a pickle file\n",
    "with open('routed_df_10000_shortest.pkl', 'wb') as f:\n",
    "    pickle.dump(df_small, f)"
   ]
  },
  {
   "cell_type": "code",
   "execution_count": null,
   "id": "bad432dc",
   "metadata": {},
   "outputs": [],
   "source": [
    "import osmnx as ox\n",
    "import matplotlib.pyplot as plt\n",
    "\n",
    "# Example: plot a single route\n",
    "def plot_route(graph, route):\n",
    "    fig, ax = ox.plot_graph_route(graph, route, route_linewidth=1, node_size=0, bgcolor='white')\n",
    "    plt.show()\n",
    "\n",
    "plot_route(G_proj, df_small['route'].iloc[0])"
   ]
  },
  {
   "cell_type": "markdown",
   "id": "49f33b13",
   "metadata": {},
   "source": [
    "# Naive modelling"
   ]
  },
  {
   "cell_type": "code",
   "execution_count": 306,
   "id": "86c84f3c",
   "metadata": {},
   "outputs": [
    {
     "data": {
      "text/plain": [
       "139291"
      ]
     },
     "execution_count": 306,
     "metadata": {},
     "output_type": "execute_result"
    }
   ],
   "source": [
    "len(G_proj.edges)"
   ]
  },
  {
   "cell_type": "code",
   "execution_count": 307,
   "id": "d069c4d4",
   "metadata": {},
   "outputs": [
    {
     "data": {
      "text/plain": [
       "55264"
      ]
     },
     "execution_count": 307,
     "metadata": {},
     "output_type": "execute_result"
    }
   ],
   "source": [
    "len(G_proj.nodes)"
   ]
  },
  {
   "cell_type": "code",
   "execution_count": 275,
   "id": "5edbd278",
   "metadata": {},
   "outputs": [
    {
     "data": {
      "text/plain": [
       "[np.int64(42437368),\n",
       " 42435663,\n",
       " 42437363,\n",
       " 42439972,\n",
       " 42439968,\n",
       " 42439964,\n",
       " 42433611,\n",
       " 42428268,\n",
       " np.int64(42430317)]"
      ]
     },
     "execution_count": 275,
     "metadata": {},
     "output_type": "execute_result"
    }
   ],
   "source": [
    "df_small['route'].iloc[0]"
   ]
  },
  {
   "cell_type": "code",
   "execution_count": 276,
   "id": "2b70e63d",
   "metadata": {},
   "outputs": [
    {
     "data": {
      "text/plain": [
       "OutMultiEdgeDataView([(42445001, 42434434), (42445001, 42444991)])"
      ]
     },
     "execution_count": 276,
     "metadata": {},
     "output_type": "execute_result"
    }
   ],
   "source": [
    "G_proj.edges([42445001])"
   ]
  },
  {
   "cell_type": "code",
   "execution_count": 305,
   "id": "ea6431dd",
   "metadata": {},
   "outputs": [
    {
     "name": "stdout",
     "output_type": "stream",
     "text": [
      "{'osmid': [1025734022, 1025734023], 'highway': 'primary', 'lanes': '4', 'name': '9th Avenue', 'oneway': True, 'reversed': False, 'length': 87.41343891131758, 'geometry': <LINESTRING (-73.993 40.758, -73.993 40.758, -73.993 40.757, -73.994 40.757,...>, 'speed_limit': 50, 'travel_time': 6.293767601614866}\n"
     ]
    }
   ],
   "source": [
    "print(G_proj[42445001][42444991][0])  # Length of the edge in meters"
   ]
  },
  {
   "cell_type": "code",
   "execution_count": 278,
   "id": "c74f534d",
   "metadata": {},
   "outputs": [
    {
     "name": "stdout",
     "output_type": "stream",
     "text": [
      "Remaining rows after filtering: 9960\n"
     ]
    }
   ],
   "source": [
    "#eliminate those with empty routes: disconnected? ~0.4%\n",
    "df_small = df_small[df_small['route'].apply(lambda x: x is not None and len(x) > 0)]\n",
    "print(f\"Remaining rows after filtering: {df_small.shape[0]}\")"
   ]
  },
  {
   "cell_type": "code",
   "execution_count": 279,
   "id": "84d38912",
   "metadata": {},
   "outputs": [],
   "source": [
    "def get_edge_length_sum(graph, route):\n",
    "    edge_length = 0\n",
    "    if not route:\n",
    "        print(\"Warning: The route is empty.\")\n",
    "        return edge_length\n",
    "    for i in range(len(route) - 1):\n",
    "        u, v = route[i], route[i + 1]\n",
    "        if v not in graph[u]:\n",
    "            print(f\"Warning: Edge {u} to {v} not found in the graph.\")\n",
    "            continue\n",
    "        length = graph[u][v][0]['length']\n",
    "        edge_length += length\n",
    "    return edge_length"
   ]
  },
  {
   "cell_type": "code",
   "execution_count": 280,
   "id": "aecc87ac",
   "metadata": {},
   "outputs": [],
   "source": [
    "import numpy as np\n",
    "\n",
    "df_small['pickup_datetime'] = pd.to_datetime(df_small['pickup_datetime'])\n",
    "df_small['dropoff_datetime'] = pd.to_datetime(df_small['dropoff_datetime'])\n",
    "\n",
    "df_small['duration_seconds'] = (df_small['dropoff_datetime'] - df_small['pickup_datetime']).dt.total_seconds()\n",
    "df_small['pickup_hour'] = df_small['pickup_datetime'].dt.hour\n",
    "df_small['pickup_weekday'] = df_small['pickup_datetime'].dt.weekday\n",
    "\n",
    "# Then for each trip get the route length\n",
    "df_small['route_length'] = df_small['route'].apply(lambda route: get_edge_length_sum(G_proj, route))"
   ]
  },
  {
   "cell_type": "code",
   "execution_count": 281,
   "id": "f3ba994c",
   "metadata": {},
   "outputs": [
    {
     "data": {
      "text/plain": [
       "Index(['vendor_id', 'pickup_datetime', 'dropoff_datetime', 'passenger_count',\n",
       "       'trip_distance', 'pickup_longitude', 'pickup_latitude',\n",
       "       'store_and_fwd_flag', 'dropoff_longitude', 'dropoff_latitude',\n",
       "       'payment_type', 'fare_amount', 'mta_tax', 'tip_amount', 'tolls_amount',\n",
       "       'total_amount', 'imp_surcharge', 'extra', 'rate_code',\n",
       "       'duration_seconds', 'pickup_hour', 'pickup_weekday', 'route',\n",
       "       'route_length'],\n",
       "      dtype='object')"
      ]
     },
     "execution_count": 281,
     "metadata": {},
     "output_type": "execute_result"
    }
   ],
   "source": [
    "df_small.columns"
   ]
  },
  {
   "cell_type": "code",
   "execution_count": 282,
   "id": "a67144ae",
   "metadata": {},
   "outputs": [
    {
     "name": "stdout",
     "output_type": "stream",
     "text": [
      "Average duration: 786.2980923694779 seconds\n"
     ]
    }
   ],
   "source": [
    "#print average duration\n",
    "print(f\"Average duration: {df_small['duration_seconds'].mean()} seconds\")"
   ]
  },
  {
   "cell_type": "code",
   "execution_count": 283,
   "id": "2104272c",
   "metadata": {},
   "outputs": [],
   "source": [
    "from sklearn.model_selection import train_test_split\n",
    "\n",
    "features = ['route_length','pickup_latitude','pickup_longitude', 'pickup_hour', 'pickup_weekday', 'passenger_count']\n",
    "X = df_small[features]\n",
    "#add lat squared and lon squared\n",
    "# X['pickup_latitude_squared'] = X['pickup_latitude'] ** 2\n",
    "# X['pickup_longitude_squared'] = X['pickup_longitude'] ** 2\n",
    "y = df_small['duration_seconds']\n",
    "\n",
    "X_train, X_test, y_train, y_test = train_test_split(X, y, test_size=0.2, random_state=42)\n"
   ]
  },
  {
   "cell_type": "code",
   "execution_count": 284,
   "id": "83d1d5dc",
   "metadata": {},
   "outputs": [
    {
     "name": "stdout",
     "output_type": "stream",
     "text": [
      "Baseline MAE: 276.58 seconds\n"
     ]
    }
   ],
   "source": [
    "from sklearn.linear_model import LinearRegression\n",
    "from sklearn.metrics import mean_absolute_error\n",
    "\n",
    "model = LinearRegression()\n",
    "model.fit(X_train, y_train)\n",
    "\n",
    "y_pred = model.predict(X_test)\n",
    "mae = mean_absolute_error(y_test, y_pred)\n",
    "print(f\"Baseline MAE: {mae:.2f} seconds\")\n"
   ]
  },
  {
   "cell_type": "code",
   "execution_count": 285,
   "id": "04cdb66f",
   "metadata": {},
   "outputs": [
    {
     "name": "stdout",
     "output_type": "stream",
     "text": [
      "XGBoost MAE: 221.3101988719649\n"
     ]
    }
   ],
   "source": [
    "# Install xgboost if not already installed\n",
    "from xgboost import XGBRegressor\n",
    "\n",
    "xgb_model = XGBRegressor(n_estimators=100, learning_rate=0.1, max_depth=4, random_state=42)\n",
    "xgb_model.fit(X_train, y_train)\n",
    "y_pred_xgb = xgb_model.predict(X_test)\n",
    "\n",
    "print(\"XGBoost MAE:\", mean_absolute_error(y_test, y_pred_xgb))\n"
   ]
  },
  {
   "cell_type": "code",
   "execution_count": 286,
   "id": "ded6bbfa",
   "metadata": {},
   "outputs": [
    {
     "name": "stdout",
     "output_type": "stream",
     "text": [
      "MLP MAE: 255.9247616635821\n"
     ]
    }
   ],
   "source": [
    "from sklearn.neural_network import MLPRegressor\n",
    "\n",
    "mlp_model = MLPRegressor(hidden_layer_sizes=(128, 64), max_iter=500, random_state=42)\n",
    "mlp_model.fit(X_train, y_train)\n",
    "y_pred_mlp = mlp_model.predict(X_test)\n",
    "\n",
    "print(\"MLP MAE:\", mean_absolute_error(y_test, y_pred_mlp))\n"
   ]
  },
  {
   "cell_type": "markdown",
   "id": "0fbc1fbe",
   "metadata": {},
   "source": [
    "### Get features of each type length travelled and number of turns"
   ]
  },
  {
   "cell_type": "code",
   "execution_count": 293,
   "id": "f8f26efc",
   "metadata": {},
   "outputs": [],
   "source": [
    "def get_route_features(graph, route):\n",
    "    if not route or len(route) < 2:\n",
    "        print(route)\n",
    "        return None\n",
    "    return pd.Series({\n",
    "        'num_edges': len(route) - 1,\n",
    "        'motor_len': sum(graph[route[i]][route[i + 1]][0]['length'] for i in range(len(route) - 1) if graph[route[i]][route[i + 1]][0].get('highway') == 'motorway' or graph[route[i]][route[i + 1]][0].get('highway') == 'motorway_link'),\n",
    "        'trunk_len': sum(graph[route[i]][route[i + 1]][0]['length'] for i in range(len(route) - 1) if graph[route[i]][route[i + 1]][0].get('highway') == 'trunk' or graph[route[i]][route[i + 1]][0].get('highway') == 'trunk_link'),\n",
    "        'primary_len': sum(graph[route[i]][route[i + 1]][0]['length'] for i in range(len(route) - 1) if graph[route[i]][route[i + 1]][0].get('highway') == 'primary'or graph[route[i]][route[i + 1]][0].get('highway') == 'primary_link'),\n",
    "        'secondary_len': sum(graph[route[i]][route[i + 1]][0]['length'] for i in range(len(route) - 1) if graph[route[i]][route[i + 1]][0].get('highway') == 'secondary' or graph[route[i]][route[i + 1]][0].get('highway') == 'secondary_link'),\n",
    "        'tertiary_len': sum(graph[route[i]][route[i + 1]][0]['length'] for i in range(len(route) - 1) if graph[route[i]][route[i + 1]][0].get('highway') == 'tertiary'),\n",
    "        'residential_len': sum(graph[route[i]][route[i + 1]][0]['length'] for i in range(len(route) - 1) if graph[route[i]][route[i + 1]][0].get('highway') == 'residential'),\n",
    "        'unclassified_len': sum(graph[route[i]][route[i + 1]][0]['length'] for i in range(len(route) - 1) if graph[route[i]][route[i + 1]][0].get('highway') == 'unclassified'),\n",
    "        'motor_segments': sum(1 for i in range(len(route) - 1) if graph[route[i]][route[i + 1]][0].get('highway') == 'motorway' or graph[route[i]][route[i + 1]][0].get('highway') == 'motorway_link'),\n",
    "        'trunk_segments': sum(1 for i in range(len(route) - 1) if graph[route[i]][route[i + 1]][0].get('highway') == 'trunk' or graph[route[i]][route[i + 1]][0].get('highway') == 'trunk_link'),\n",
    "        'primary_segments': sum(1 for i in range(len(route) - 1) if graph[route[i]][route[i + 1]][0].get('highway') == 'primary' or graph[route[i]][route[i + 1]][0].get('highway') == 'primary_link'),\n",
    "        'secondary_segments': sum(1 for i in range(len(route) - 1) if graph[route[i]][route[i + 1]][0].get('highway') == 'secondary' or graph[route[i]][route[i + 1]][0].get('highway') == 'secondary_link'),\n",
    "        'tertiary_segments': sum(1 for i in range(len(route) - 1) if graph[route[i]][route[i + 1]][0].get('highway') == 'tertiary'),\n",
    "        'residential_segments': sum(1 for i in range(len(route) - 1) if graph[route[i]][route[i + 1]][0].get('highway') == 'residential'),\n",
    "        'unclassified_segments': sum(1 for i in range(len(route) - 1) if graph[route[i]][route[i + 1]][0].get('highway') == 'unclassified')\n",
    "    })\n",
    "    return features"
   ]
  },
  {
   "cell_type": "code",
   "execution_count": 294,
   "id": "c19af364",
   "metadata": {},
   "outputs": [
    {
     "data": {
      "text/plain": [
       "num_edges                  8.000000\n",
       "motor_len                  0.000000\n",
       "trunk_len                  0.000000\n",
       "primary_len              548.881130\n",
       "secondary_len            321.842014\n",
       "tertiary_len               0.000000\n",
       "residential_len          274.020227\n",
       "unclassified_len           0.000000\n",
       "motor_segments             0.000000\n",
       "trunk_segments             0.000000\n",
       "primary_segments           2.000000\n",
       "secondary_segments         4.000000\n",
       "tertiary_segments          0.000000\n",
       "residential_segments       2.000000\n",
       "unclassified_segments      0.000000\n",
       "dtype: float64"
      ]
     },
     "execution_count": 294,
     "metadata": {},
     "output_type": "execute_result"
    }
   ],
   "source": [
    "get_route_features(G_proj, df_small['route'].iloc[0])"
   ]
  },
  {
   "cell_type": "code",
   "execution_count": 297,
   "id": "75302143",
   "metadata": {},
   "outputs": [
    {
     "name": "stdout",
     "output_type": "stream",
     "text": [
      "(9694, 21) (9694,)\n"
     ]
    }
   ],
   "source": [
    "# try XGboost again combining time and route features\n",
    "#make sure all ['route'] are not None\n",
    "df_small = df_small[df_small['route'].apply(lambda x: x is not None and len(x) >= 2)]\n",
    "route_features = df_small['route'].apply(lambda route: get_route_features(G_proj, route))\n",
    "# Combine route features with the main DataFrame\n",
    "df_combined = pd.concat([df_small.reset_index(drop=True), route_features.reset_index(drop=True)], axis=1)\n",
    "# Define features including route features\n",
    "features_with_route = ['route_length', 'num_edges', 'motor_len', 'trunk_len', 'primary_len', 'secondary_len', 'tertiary_len', 'residential_len', 'unclassified_len',\n",
    "                       'motor_segments', 'trunk_segments', 'primary_segments', 'secondary_segments', 'tertiary_segments', 'residential_segments','unclassified_segments',\n",
    "                       'pickup_latitude', 'pickup_longitude', 'pickup_hour', 'pickup_weekday', 'passenger_count']\n",
    "X_combined = df_combined[features_with_route]\n",
    "y_combined = df_combined['duration_seconds']\n",
    "print(X_combined.shape, y_combined.shape)\n",
    "X_train_combined, X_test_combined, y_train_combined, y_test_combined = train_test_split(X_combined, y_combined, test_size=0.2, random_state=42)"
   ]
  },
  {
   "cell_type": "code",
   "execution_count": 299,
   "id": "0ad51c16",
   "metadata": {},
   "outputs": [
    {
     "name": "stdout",
     "output_type": "stream",
     "text": [
      "Baseline MAE with route features: 241.58 seconds\n"
     ]
    }
   ],
   "source": [
    "# get the baseline mae again\n",
    "model_combined = LinearRegression()\n",
    "model_combined.fit(X_train_combined, y_train_combined)\n",
    "y_pred_combined = model_combined.predict(X_test_combined)\n",
    "mae_combined = mean_absolute_error(y_test_combined, y_pred_combined)\n",
    "print(f\"Baseline MAE with route features: {mae_combined:.2f} seconds\")"
   ]
  },
  {
   "cell_type": "code",
   "execution_count": 298,
   "id": "599f09b4",
   "metadata": {},
   "outputs": [
    {
     "name": "stdout",
     "output_type": "stream",
     "text": [
      "XGBoost with Route Features MAE: 208.64890873610452\n"
     ]
    }
   ],
   "source": [
    "# Train XGBoost model with route features\n",
    "xgb_model_combined = XGBRegressor(n_estimators=100, learning_rate=0.1, max_depth=4, random_state=42)\n",
    "xgb_model_combined.fit(X_train_combined, y_train_combined)\n",
    "y_pred_combined = xgb_model_combined.predict(X_test_combined)\n",
    "print(\"XGBoost with Route Features MAE:\", mean_absolute_error(y_test_combined, y_pred_combined))"
   ]
  }
 ],
 "metadata": {
  "kernelspec": {
   "display_name": "Python 3",
   "language": "python",
   "name": "python3"
  },
  "language_info": {
   "codemirror_mode": {
    "name": "ipython",
    "version": 3
   },
   "file_extension": ".py",
   "mimetype": "text/x-python",
   "name": "python",
   "nbconvert_exporter": "python",
   "pygments_lexer": "ipython3",
   "version": "3.11.8"
  }
 },
 "nbformat": 4,
 "nbformat_minor": 5
}
