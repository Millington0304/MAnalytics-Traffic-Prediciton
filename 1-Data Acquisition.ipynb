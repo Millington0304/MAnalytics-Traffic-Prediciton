{
 "cells": [
  {
   "cell_type": "markdown",
   "id": "0a185fe1",
   "metadata": {},
   "source": [
    "# Load Trip Dataset"
   ]
  },
  {
   "cell_type": "code",
   "execution_count": 25,
   "id": "d8875a24",
   "metadata": {},
   "outputs": [],
   "source": [
    "import pandas as pd\n",
    "\n",
    "# Load csv\n",
    "df = pd.read_csv('gkne-dk5s.csv')"
   ]
  },
  {
   "cell_type": "code",
   "execution_count": 26,
   "id": "9d8f2194",
   "metadata": {},
   "outputs": [],
   "source": [
    "# remove null values at lat and lon\n",
    "df = df.dropna(subset=['dropoff_longitude', 'dropoff_latitude', 'pickup_latitude', 'pickup_longitude'])"
   ]
  },
  {
   "cell_type": "markdown",
   "id": "be539ce6",
   "metadata": {},
   "source": [
    "# Obtain Road Network"
   ]
  },
  {
   "cell_type": "code",
   "execution_count": 27,
   "id": "f5db19ab",
   "metadata": {},
   "outputs": [],
   "source": [
    "import osmnx as ox\n",
    "# Download the road network for New York City\n",
    "G = ox.graph_from_place('Manhattan, New York City, New York, USA', network_type='drive')\n",
    "G_proj = ox.project_graph(G, to_latlong=True)"
   ]
  },
  {
   "cell_type": "code",
   "execution_count": 28,
   "id": "2b5a4f4a",
   "metadata": {},
   "outputs": [],
   "source": [
    "#len(G_proj.nodes), len(G_proj.edges)"
   ]
  },
  {
   "cell_type": "code",
   "execution_count": 29,
   "id": "8095cb8a",
   "metadata": {},
   "outputs": [],
   "source": [
    "# Check the first few edges of the projected graph\n",
    "# list(G_proj.edges(data=True))[0:5]"
   ]
  },
  {
   "cell_type": "markdown",
   "id": "b75230ea",
   "metadata": {},
   "source": [
    "# Add Set Speed Limit for Simple Fastest Route Recovery"
   ]
  },
  {
   "cell_type": "code",
   "execution_count": 30,
   "id": "910c53c4",
   "metadata": {},
   "outputs": [],
   "source": [
    "#set a fixed speed limit for all edges based on the road type \n",
    "dict_speed = {\n",
    "    'motorway': 70,\n",
    "    'trunk': 60,\n",
    "    'primary': 50,\n",
    "    'secondary': 40,\n",
    "    'tertiary': 30,\n",
    "    'residential': 20,\n",
    "    'unclassified': 15,\n",
    "    'secondary_link': 30,\n",
    "    'primary_link': 40,\n",
    "    'trunk_link': 50,\n",
    "    'motorway_link': 60,\n",
    "}"
   ]
  },
  {
   "cell_type": "code",
   "execution_count": 31,
   "id": "29e0b268",
   "metadata": {},
   "outputs": [],
   "source": [
    "#get an estimated travel time for each edge at G_proj, each junction will take 5 seconds to transition\n",
    "for u, v, data in G_proj.edges(data=True):\n",
    "    road_type = data.get('highway', 'residential')  # default to residential if not specified\n",
    "    # in case it's a list, get the first type\n",
    "    if isinstance(road_type, list):\n",
    "        road_type = road_type[0]\n",
    "    speed_limit = dict_speed.get(road_type, 20)  # default speed limit if road type not found\n",
    "    data['speed_limit'] = speed_limit\n",
    "    data['travel_time'] = data['length'] / (speed_limit * 1000 / 3600) + 2  # convert speed to m/s and calculate time in seconds, add 2 seconds for stop time for each edge transition"
   ]
  },
  {
   "cell_type": "markdown",
   "id": "a7b5d2ec",
   "metadata": {},
   "source": [
    "# Pickle Projected Network"
   ]
  },
  {
   "cell_type": "code",
   "execution_count": 32,
   "id": "15ab02d0",
   "metadata": {},
   "outputs": [],
   "source": [
    "import pickle\n",
    "with open('g_proj.pkl', 'wb') as f:\n",
    "    pickle.dump(G_proj, f)\n",
    "with open('g.pkl', 'wb') as f:\n",
    "    pickle.dump(G, f)"
   ]
  }
 ],
 "metadata": {
  "kernelspec": {
   "display_name": "Python 3",
   "language": "python",
   "name": "python3"
  },
  "language_info": {
   "codemirror_mode": {
    "name": "ipython",
    "version": 3
   },
   "file_extension": ".py",
   "mimetype": "text/x-python",
   "name": "python",
   "nbconvert_exporter": "python",
   "pygments_lexer": "ipython3",
   "version": "3.11.8"
  }
 },
 "nbformat": 4,
 "nbformat_minor": 5
}
